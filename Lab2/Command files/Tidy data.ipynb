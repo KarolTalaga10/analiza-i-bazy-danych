{
 "cells": [
  {
   "cell_type": "code",
   "execution_count": null,
   "id": "a546a5ec",
   "metadata": {},
   "outputs": [],
   "source": [
    "# Import niezbędnych bibliotek\n",
    "import pandas as pd"
   ]
  },
  {
   "cell_type": "code",
   "execution_count": null,
   "id": "878986b5",
   "metadata": {},
   "outputs": [],
   "source": [
    "# Wczytanie oryginalnych danych\n",
    "ORIGINAL_DATA = pd.read_csv(\"../Original Data/tb.csv\")\n",
    "ORIGINAL_DATA.head()"
   ]
  },
  {
   "cell_type": "code",
   "execution_count": null,
   "id": "68d33e0a",
   "metadata": {},
   "outputs": [],
   "source": [
    "# Stworzenie kopii danych, na której będziemy operować\n",
    "data_copy = ORIGINAL_DATA.copy()\n",
    "data_copy.info()"
   ]
  },
  {
   "cell_type": "code",
   "execution_count": null,
   "id": "65b03761",
   "metadata": {},
   "outputs": [],
   "source": [
    "# Usunięcie zbędnych kolumn\n",
    "data_copy = data_copy.drop(columns = [\"new_sp\",\"new_sp_m04\",\"new_sp_m514\",\"new_sp_f04\",\"new_sp_f514\",\"new_sp_mu\",\"new_sp_fu\"])"
   ]
  },
  {
   "cell_type": "code",
   "execution_count": null,
   "id": "4d2d7188",
   "metadata": {},
   "outputs": [],
   "source": [
    "# Usunięcie kraju o którym nie ma danych\n",
    "data_copy = data_copy[data_copy[\"iso2\"].notna()]"
   ]
  },
  {
   "cell_type": "code",
   "execution_count": null,
   "id": "58d09608",
   "metadata": {},
   "outputs": [],
   "source": [
    "# Usunięcie rekordów zawierających NaNy\n",
    "data_copy = data_copy.dropna()\n",
    "data_copy.head(10)"
   ]
  },
  {
   "cell_type": "code",
   "execution_count": null,
   "id": "853451ca",
   "metadata": {},
   "outputs": [],
   "source": [
    "# Stworzenie \"długiej tablicy\" zawierającej najważniejsze dane w surowej postaci\n",
    "data_copy = pd.melt(data_copy, id_vars=['iso2', 'year'], value_vars=list(data_copy.columns)[2:],\n",
    "                    var_name='cases_sex_age', value_name='cases')\n",
    "data_copy.head(10)"
   ]
  },
  {
   "cell_type": "code",
   "execution_count": null,
   "id": "c78236e8",
   "metadata": {},
   "outputs": [],
   "source": [
    "# Rozdzielenie kolumny \"cases_sex_age\" na dwie kolumny zawierające osobno płeć i przedział wiekowy\n",
    "data_copy['sex'] = data_copy['cases_sex_age'].str[7]\n",
    "data_copy['age'] = data_copy['cases_sex_age'].str[8:].map({'014': '0-14', '1524': '15-24', '2534': '25-34',\n",
    "    '3544': '35-44', '4554': '45-54', '5564': '55-64', '65': '65+'})"
   ]
  },
  {
   "cell_type": "code",
   "execution_count": null,
   "id": "4e1d0869",
   "metadata": {},
   "outputs": [],
   "source": [
    "# Usunięcie zbędnej już kolumny \"cases_sex_age\"\n",
    "data_copy = data_copy.drop(['cases_sex_age'], axis = 1)"
   ]
  },
  {
   "cell_type": "code",
   "execution_count": null,
   "id": "87ef7580",
   "metadata": {},
   "outputs": [],
   "source": [
    "# Wyrównanie indeksów\n",
    "data_copy.reset_index(drop=True)"
   ]
  },
  {
   "cell_type": "code",
   "execution_count": null,
   "id": "5bfcfd4b",
   "metadata": {},
   "outputs": [],
   "source": [
    "# Ostatni rzut okiem na dane\n",
    "data_copy.tail(20)"
   ]
  },
  {
   "cell_type": "code",
   "execution_count": null,
   "id": "a4098798",
   "metadata": {},
   "outputs": [],
   "source": [
    "# Eksport przetworzonych danych do pliku .csv\n",
    "data_copy.to_csv('../Analysis Data/tidy_data.csv')"
   ]
  }
 ],
 "metadata": {
  "kernelspec": {
   "display_name": "Python 3",
   "language": "python",
   "name": "python3"
  },
  "language_info": {
   "codemirror_mode": {
    "name": "ipython",
    "version": 3
   },
   "file_extension": ".py",
   "mimetype": "text/x-python",
   "name": "python",
   "nbconvert_exporter": "python",
   "pygments_lexer": "ipython3",
   "version": "3.9.4"
  }
 },
 "nbformat": 4,
 "nbformat_minor": 5
}
