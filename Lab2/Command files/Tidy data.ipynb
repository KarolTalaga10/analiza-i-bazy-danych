{
 "cells": [
  {
   "cell_type": "code",
   "execution_count": 1,
   "id": "a546a5ec",
   "metadata": {},
   "outputs": [],
   "source": [
    "import pandas as pd"
   ]
  },
  {
   "cell_type": "code",
   "execution_count": 2,
   "id": "878986b5",
   "metadata": {},
   "outputs": [],
   "source": [
    "ORIGINAL_DATA = pd.read_csv(\"../Original Data/tb.csv\")"
   ]
  },
  {
   "cell_type": "code",
   "execution_count": 3,
   "id": "272ca07f",
   "metadata": {},
   "outputs": [
    {
     "data": {
      "text/html": [
       "<div>\n",
       "<style scoped>\n",
       "    .dataframe tbody tr th:only-of-type {\n",
       "        vertical-align: middle;\n",
       "    }\n",
       "\n",
       "    .dataframe tbody tr th {\n",
       "        vertical-align: top;\n",
       "    }\n",
       "\n",
       "    .dataframe thead th {\n",
       "        text-align: right;\n",
       "    }\n",
       "</style>\n",
       "<table border=\"1\" class=\"dataframe\">\n",
       "  <thead>\n",
       "    <tr style=\"text-align: right;\">\n",
       "      <th></th>\n",
       "      <th>iso2</th>\n",
       "      <th>year</th>\n",
       "      <th>new_sp</th>\n",
       "      <th>new_sp_m04</th>\n",
       "      <th>new_sp_m514</th>\n",
       "      <th>new_sp_m014</th>\n",
       "      <th>new_sp_m1524</th>\n",
       "      <th>new_sp_m2534</th>\n",
       "      <th>new_sp_m3544</th>\n",
       "      <th>new_sp_m4554</th>\n",
       "      <th>...</th>\n",
       "      <th>new_sp_f04</th>\n",
       "      <th>new_sp_f514</th>\n",
       "      <th>new_sp_f014</th>\n",
       "      <th>new_sp_f1524</th>\n",
       "      <th>new_sp_f2534</th>\n",
       "      <th>new_sp_f3544</th>\n",
       "      <th>new_sp_f4554</th>\n",
       "      <th>new_sp_f5564</th>\n",
       "      <th>new_sp_f65</th>\n",
       "      <th>new_sp_fu</th>\n",
       "    </tr>\n",
       "  </thead>\n",
       "  <tbody>\n",
       "    <tr>\n",
       "      <th>0</th>\n",
       "      <td>AD</td>\n",
       "      <td>1989</td>\n",
       "      <td>NaN</td>\n",
       "      <td>NaN</td>\n",
       "      <td>NaN</td>\n",
       "      <td>NaN</td>\n",
       "      <td>NaN</td>\n",
       "      <td>NaN</td>\n",
       "      <td>NaN</td>\n",
       "      <td>NaN</td>\n",
       "      <td>...</td>\n",
       "      <td>NaN</td>\n",
       "      <td>NaN</td>\n",
       "      <td>NaN</td>\n",
       "      <td>NaN</td>\n",
       "      <td>NaN</td>\n",
       "      <td>NaN</td>\n",
       "      <td>NaN</td>\n",
       "      <td>NaN</td>\n",
       "      <td>NaN</td>\n",
       "      <td>NaN</td>\n",
       "    </tr>\n",
       "    <tr>\n",
       "      <th>1</th>\n",
       "      <td>AD</td>\n",
       "      <td>1990</td>\n",
       "      <td>NaN</td>\n",
       "      <td>NaN</td>\n",
       "      <td>NaN</td>\n",
       "      <td>NaN</td>\n",
       "      <td>NaN</td>\n",
       "      <td>NaN</td>\n",
       "      <td>NaN</td>\n",
       "      <td>NaN</td>\n",
       "      <td>...</td>\n",
       "      <td>NaN</td>\n",
       "      <td>NaN</td>\n",
       "      <td>NaN</td>\n",
       "      <td>NaN</td>\n",
       "      <td>NaN</td>\n",
       "      <td>NaN</td>\n",
       "      <td>NaN</td>\n",
       "      <td>NaN</td>\n",
       "      <td>NaN</td>\n",
       "      <td>NaN</td>\n",
       "    </tr>\n",
       "    <tr>\n",
       "      <th>2</th>\n",
       "      <td>AD</td>\n",
       "      <td>1991</td>\n",
       "      <td>NaN</td>\n",
       "      <td>NaN</td>\n",
       "      <td>NaN</td>\n",
       "      <td>NaN</td>\n",
       "      <td>NaN</td>\n",
       "      <td>NaN</td>\n",
       "      <td>NaN</td>\n",
       "      <td>NaN</td>\n",
       "      <td>...</td>\n",
       "      <td>NaN</td>\n",
       "      <td>NaN</td>\n",
       "      <td>NaN</td>\n",
       "      <td>NaN</td>\n",
       "      <td>NaN</td>\n",
       "      <td>NaN</td>\n",
       "      <td>NaN</td>\n",
       "      <td>NaN</td>\n",
       "      <td>NaN</td>\n",
       "      <td>NaN</td>\n",
       "    </tr>\n",
       "    <tr>\n",
       "      <th>3</th>\n",
       "      <td>AD</td>\n",
       "      <td>1992</td>\n",
       "      <td>NaN</td>\n",
       "      <td>NaN</td>\n",
       "      <td>NaN</td>\n",
       "      <td>NaN</td>\n",
       "      <td>NaN</td>\n",
       "      <td>NaN</td>\n",
       "      <td>NaN</td>\n",
       "      <td>NaN</td>\n",
       "      <td>...</td>\n",
       "      <td>NaN</td>\n",
       "      <td>NaN</td>\n",
       "      <td>NaN</td>\n",
       "      <td>NaN</td>\n",
       "      <td>NaN</td>\n",
       "      <td>NaN</td>\n",
       "      <td>NaN</td>\n",
       "      <td>NaN</td>\n",
       "      <td>NaN</td>\n",
       "      <td>NaN</td>\n",
       "    </tr>\n",
       "    <tr>\n",
       "      <th>4</th>\n",
       "      <td>AD</td>\n",
       "      <td>1993</td>\n",
       "      <td>15.0</td>\n",
       "      <td>NaN</td>\n",
       "      <td>NaN</td>\n",
       "      <td>NaN</td>\n",
       "      <td>NaN</td>\n",
       "      <td>NaN</td>\n",
       "      <td>NaN</td>\n",
       "      <td>NaN</td>\n",
       "      <td>...</td>\n",
       "      <td>NaN</td>\n",
       "      <td>NaN</td>\n",
       "      <td>NaN</td>\n",
       "      <td>NaN</td>\n",
       "      <td>NaN</td>\n",
       "      <td>NaN</td>\n",
       "      <td>NaN</td>\n",
       "      <td>NaN</td>\n",
       "      <td>NaN</td>\n",
       "      <td>NaN</td>\n",
       "    </tr>\n",
       "  </tbody>\n",
       "</table>\n",
       "<p>5 rows × 23 columns</p>\n",
       "</div>"
      ],
      "text/plain": [
       "  iso2  year  new_sp  new_sp_m04  new_sp_m514  new_sp_m014  new_sp_m1524  \\\n",
       "0   AD  1989     NaN         NaN          NaN          NaN           NaN   \n",
       "1   AD  1990     NaN         NaN          NaN          NaN           NaN   \n",
       "2   AD  1991     NaN         NaN          NaN          NaN           NaN   \n",
       "3   AD  1992     NaN         NaN          NaN          NaN           NaN   \n",
       "4   AD  1993    15.0         NaN          NaN          NaN           NaN   \n",
       "\n",
       "   new_sp_m2534  new_sp_m3544  new_sp_m4554  ...  new_sp_f04  new_sp_f514  \\\n",
       "0           NaN           NaN           NaN  ...         NaN          NaN   \n",
       "1           NaN           NaN           NaN  ...         NaN          NaN   \n",
       "2           NaN           NaN           NaN  ...         NaN          NaN   \n",
       "3           NaN           NaN           NaN  ...         NaN          NaN   \n",
       "4           NaN           NaN           NaN  ...         NaN          NaN   \n",
       "\n",
       "   new_sp_f014  new_sp_f1524  new_sp_f2534  new_sp_f3544  new_sp_f4554  \\\n",
       "0          NaN           NaN           NaN           NaN           NaN   \n",
       "1          NaN           NaN           NaN           NaN           NaN   \n",
       "2          NaN           NaN           NaN           NaN           NaN   \n",
       "3          NaN           NaN           NaN           NaN           NaN   \n",
       "4          NaN           NaN           NaN           NaN           NaN   \n",
       "\n",
       "   new_sp_f5564  new_sp_f65  new_sp_fu  \n",
       "0           NaN         NaN        NaN  \n",
       "1           NaN         NaN        NaN  \n",
       "2           NaN         NaN        NaN  \n",
       "3           NaN         NaN        NaN  \n",
       "4           NaN         NaN        NaN  \n",
       "\n",
       "[5 rows x 23 columns]"
      ]
     },
     "execution_count": 3,
     "metadata": {},
     "output_type": "execute_result"
    }
   ],
   "source": [
    "ORIGINAL_DATA.head()"
   ]
  },
  {
   "cell_type": "code",
   "execution_count": 4,
   "id": "68d33e0a",
   "metadata": {},
   "outputs": [],
   "source": [
    "data_copy = ORIGINAL_DATA.copy()"
   ]
  },
  {
   "cell_type": "code",
   "execution_count": null,
   "id": "b13bef7b",
   "metadata": {},
   "outputs": [],
   "source": [
    "data_copy.info()"
   ]
  },
  {
   "cell_type": "code",
   "execution_count": null,
   "id": "70e1bf5f",
   "metadata": {},
   "outputs": [],
   "source": [
    "data_copy = data_copy.dropna(axis=0, subset=[\"new_sp\"])"
   ]
  },
  {
   "cell_type": "code",
   "execution_count": null,
   "id": "baba6e91",
   "metadata": {},
   "outputs": [],
   "source": [
    "data_copy.info()"
   ]
  },
  {
   "cell_type": "code",
   "execution_count": null,
   "id": "65b03761",
   "metadata": {},
   "outputs": [],
   "source": [
    "data_copy = data_copy.drop(columns = [\"new_sp_m04\",\"new_sp_m514\",\"new_sp_f04\",\"new_sp_f514\",\"new_sp_mu\",\"new_sp_fu\"])"
   ]
  },
  {
   "cell_type": "code",
   "execution_count": null,
   "id": "c133addf",
   "metadata": {},
   "outputs": [],
   "source": [
    "data_copy.head()"
   ]
  },
  {
   "cell_type": "code",
   "execution_count": null,
   "id": "5b5b2326",
   "metadata": {},
   "outputs": [],
   "source": [
    "data_copy.info()"
   ]
  },
  {
   "cell_type": "code",
   "execution_count": null,
   "id": "21e5d26f",
   "metadata": {},
   "outputs": [],
   "source": [
    "data_copy[data_copy[\"iso2\"].isnull()]"
   ]
  },
  {
   "cell_type": "code",
   "execution_count": null,
   "id": "4d2d7188",
   "metadata": {},
   "outputs": [],
   "source": [
    "data_copy = data_copy[data_copy[\"iso2\"].notna()]"
   ]
  },
  {
   "cell_type": "code",
   "execution_count": null,
   "id": "f6e0ed2a",
   "metadata": {},
   "outputs": [],
   "source": [
    "data_copy.head(20)"
   ]
  },
  {
   "cell_type": "code",
   "execution_count": null,
   "id": "76f3c6a6",
   "metadata": {},
   "outputs": [],
   "source": [
    "data_copy.info()"
   ]
  },
  {
   "cell_type": "code",
   "execution_count": null,
   "id": "63f70859",
   "metadata": {},
   "outputs": [],
   "source": [
    "data_copy.head(20)"
   ]
  },
  {
   "cell_type": "code",
   "execution_count": null,
   "id": "58d09608",
   "metadata": {},
   "outputs": [],
   "source": [
    "data_copy = data_copy.dropna()"
   ]
  },
  {
   "cell_type": "code",
   "execution_count": null,
   "id": "66b8e3f0",
   "metadata": {},
   "outputs": [],
   "source": [
    "data_copy.info()"
   ]
  },
  {
   "cell_type": "code",
   "execution_count": null,
   "id": "ad897fa7",
   "metadata": {},
   "outputs": [],
   "source": [
    "data_copy.head(20)"
   ]
  },
  {
   "cell_type": "code",
   "execution_count": null,
   "id": "2f26bd5d",
   "metadata": {},
   "outputs": [],
   "source": []
  }
 ],
 "metadata": {
  "kernelspec": {
   "display_name": "Python 3",
   "language": "python",
   "name": "python3"
  },
  "language_info": {
   "codemirror_mode": {
    "name": "ipython",
    "version": 3
   },
   "file_extension": ".py",
   "mimetype": "text/x-python",
   "name": "python",
   "nbconvert_exporter": "python",
   "pygments_lexer": "ipython3",
   "version": "3.9.4"
  }
 },
 "nbformat": 4,
 "nbformat_minor": 5
}
